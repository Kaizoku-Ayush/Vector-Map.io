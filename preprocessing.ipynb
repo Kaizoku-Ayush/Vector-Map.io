{
 "cells": [
  {
   "cell_type": "markdown",
   "id": "887e7306",
   "metadata": {},
   "source": [
    "Importing Modules"
   ]
  },
  {
   "cell_type": "code",
   "execution_count": 2,
   "id": "2ef16940",
   "metadata": {},
   "outputs": [],
   "source": [
    "import os\n",
    "import numpy\n",
    "from PIL import Image\n",
    "import matplotlib.pyplot as plt\n",
    "from pathlib import Path"
   ]
  },
  {
   "cell_type": "markdown",
   "id": "8ca969d9",
   "metadata": {},
   "source": [
    "Verifying Path"
   ]
  },
  {
   "cell_type": "code",
   "execution_count": 6,
   "id": "f77c1d34",
   "metadata": {},
   "outputs": [
    {
     "name": "stdout",
     "output_type": "stream",
     "text": [
      "Checking dataset at: data\n",
      "========================================\n",
      "Training images: 180\n",
      "Training ground truth: 180\n",
      "Testing images: 180\n",
      "Dataset structure is correct.\n"
     ]
    }
   ],
   "source": [
    "dataset_Path = Path(\"data\")\n",
    "print(f\"Checking dataset at: {dataset_Path}\")\n",
    "print(\"=\" * 40)\n",
    "\n",
    "# Check if the dataset directory structure is correct\n",
    "train_image = dataset_Path / \"train\" / \"images\"\n",
    "train_gt = dataset_Path / \"train\" / \"gt\"\n",
    "test_image = dataset_Path / \"test\" / \"images\"\n",
    "\n",
    "if not dataset_Path.exists():\n",
    "    print(f\"Dataset path {dataset_Path} does not exist.\")\n",
    "    print(\"Please ensure the dataset is correctly placed.\")\n",
    "    exit(1)\n",
    "\n",
    "#Counting Files\n",
    "train_img_count = len(list(train_image.glob(\"*.tif\"))) if train_image.exists() else 0\n",
    "train_gt_count = len(list(train_gt.glob(\"*.tif\"))) if train_gt.exists() else 0\n",
    "test_img_count = len(list(test_image.glob(\"*.tif\"))) if test_image.exists() else 0\n",
    "\n",
    "print(f\"Training images: {train_img_count}\")\n",
    "print(f\"Training ground truth: {train_gt_count}\")\n",
    "print(f\"Testing images: {test_img_count}\")\n",
    "\n",
    "if train_img_count == train_gt_count == 180:\n",
    "    print(\"Dataset structure is correct.\")\n",
    "else:\n",
    "    print(\"Dataset structure is incorrect. Please check the number of images and ground truth files.\")\n",
    "    \n",
    "\n"
   ]
  }
 ],
 "metadata": {
  "kernelspec": {
   "display_name": ".venv",
   "language": "python",
   "name": "python3"
  },
  "language_info": {
   "codemirror_mode": {
    "name": "ipython",
    "version": 3
   },
   "file_extension": ".py",
   "mimetype": "text/x-python",
   "name": "python",
   "nbconvert_exporter": "python",
   "pygments_lexer": "ipython3",
   "version": "3.13.2"
  }
 },
 "nbformat": 4,
 "nbformat_minor": 5
}
